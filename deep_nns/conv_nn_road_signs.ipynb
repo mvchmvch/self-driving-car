{
  "nbformat": 4,
  "nbformat_minor": 0,
  "metadata": {
    "colab": {
      "name": "Untitled5.ipynb",
      "provenance": [],
      "collapsed_sections": []
    },
    "kernelspec": {
      "name": "python3",
      "display_name": "Python 3"
    },
    "accelerator": "GPU"
  },
  "cells": [
    {
      "cell_type": "code",
      "metadata": {
        "id": "TYJlwu7wZGlu",
        "colab_type": "code",
        "colab": {}
      },
      "source": [
        "!git clone https://bitbucket.org/jadslim/german-traffic-signs\n"
      ],
      "execution_count": null,
      "outputs": []
    },
    {
      "cell_type": "code",
      "metadata": {
        "id": "kNQJ18FBZT4E",
        "colab_type": "code",
        "colab": {
          "base_uri": "https://localhost:8080/",
          "height": 34
        },
        "outputId": "8ecaf8a1-b634-4829-b8b6-31319d7a44b0"
      },
      "source": [
        "import numpy as np\n",
        "import matplotlib.pyplot as plt\n",
        "import keras\n",
        "from keras.models import Sequential\n",
        "from keras.optimizers import Adam\n",
        "from keras.layers import Dense\n",
        "from keras.layers import Flatten, Dropout\n",
        "from keras.utils.np_utils import to_categorical\n",
        "from keras.layers.convolutional import Conv2D, MaxPooling2D\n",
        "import random\n",
        "import pickle\n",
        "import pandas as pd\n",
        "import cv2\n",
        "\n",
        "from keras.callbacks import LearningRateScheduler, ModelCheckpoint"
      ],
      "execution_count": 2,
      "outputs": [
        {
          "output_type": "stream",
          "text": [
            "Using TensorFlow backend.\n"
          ],
          "name": "stderr"
        }
      ]
    },
    {
      "cell_type": "code",
      "metadata": {
        "id": "lxnyho2oZhRo",
        "colab_type": "code",
        "colab": {}
      },
      "source": [
        "np.random.seed(0)\n",
        "\n",
        "with open('german-traffic-signs/train.p', 'rb') as f:\n",
        "    train_data = pickle.load(f)\n",
        "with open('german-traffic-signs/valid.p', 'rb') as f:\n",
        "    val_data = pickle.load(f)\n",
        "with open('german-traffic-signs/test.p', 'rb') as f:\n",
        "    test_data = pickle.load(f)"
      ],
      "execution_count": 3,
      "outputs": []
    },
    {
      "cell_type": "code",
      "metadata": {
        "id": "FJnx-sbyZ9Vd",
        "colab_type": "code",
        "colab": {}
      },
      "source": [
        "# Split out features and labels\n",
        "X_train, y_train = train_data['features'], train_data['labels']\n",
        "X_val, y_val = val_data['features'], val_data['labels']\n",
        "X_test, y_test = test_data['features'], test_data['labels']"
      ],
      "execution_count": 4,
      "outputs": []
    },
    {
      "cell_type": "code",
      "metadata": {
        "id": "r70AvwFkaB2B",
        "colab_type": "code",
        "colab": {}
      },
      "source": [
        "data = pd.read_csv('german-traffic-signs/signnames.csv')\n",
        "  \n",
        "num_of_samples=[]\n",
        "\n",
        "cols = 5\n",
        "num_classes = 43\n",
        "\n",
        "fig, axs = plt.subplots(nrows=num_classes, ncols=cols, figsize=(5,50))\n",
        "fig.tight_layout()\n",
        "\n",
        "for i in range(cols):\n",
        "    for j, row in data.iterrows():\n",
        "      x_selected = X_train[y_train == j]\n",
        "      axs[j][i].imshow(x_selected[random.randint(0,(len(x_selected) - 1)), :, :], cmap=plt.get_cmap('gray'))\n",
        "      axs[j][i].axis(\"off\")\n",
        "      if i == 2:\n",
        "        axs[j][i].set_title(str(j) + \" - \" + row[\"SignName\"])\n",
        "        num_of_samples.append(len(x_selected))\n",
        "\n",
        "plt.figure(figsize=(12, 4))\n",
        "plt.bar(range(0, num_classes), num_of_samples)\n",
        "plt.title(\"Distribution of the train dataset\")\n",
        "plt.xlabel(\"Class number\")\n",
        "plt.ylabel(\"Number of images\")\n",
        "plt.show()"
      ],
      "execution_count": null,
      "outputs": []
    },
    {
      "cell_type": "code",
      "metadata": {
        "id": "icOehA-uapnf",
        "colab_type": "code",
        "colab": {}
      },
      "source": [
        "import cv2\n",
        "\n",
        "def grayscale(img):\n",
        "    img = cv2.cvtColor(img, cv2.COLOR_BGR2GRAY)\n",
        "    return img\n",
        "\n",
        "def equalize(img):\n",
        "    img = cv2.equalizeHist(img)\n",
        "    return img\n",
        "\n",
        "def preprocess(img):\n",
        "    img = grayscale(img)\n",
        "    img = equalize(img)\n",
        "    img = img/255\n",
        "    return img\n",
        "  "
      ],
      "execution_count": null,
      "outputs": []
    },
    {
      "cell_type": "code",
      "metadata": {
        "id": "rv_sgyija72G",
        "colab_type": "code",
        "colab": {}
      },
      "source": [
        "X_train = np.array(list(map(preprocess, X_train)))\n",
        "X_test = np.array(list(map(preprocess, X_test)))\n",
        "X_val = np.array(list(map(preprocess, X_val)))\n",
        "\n",
        "X_train = X_train.reshape(34799, 32, 32, 1)\n",
        "X_test = X_test.reshape(12630, 32, 32, 1)\n",
        "X_val = X_val.reshape(4410, 32, 32, 1)"
      ],
      "execution_count": null,
      "outputs": []
    },
    {
      "cell_type": "code",
      "metadata": {
        "id": "RsoWQWMDbcSw",
        "colab_type": "code",
        "colab": {}
      },
      "source": [
        "from keras.preprocessing.image import ImageDataGenerator\n",
        "\n",
        "datagen = ImageDataGenerator(width_shift_range=0.1,\n",
        "                            height_shift_range=0.1,\n",
        "                            zoom_range=0.2,\n",
        "                            shear_range=0.1,\n",
        "                            rotation_range=10.)\n",
        "\n",
        "datagen.fit(X_train)\n",
        "# for X_batch, y_batch in\n",
        "\n",
        "batches = datagen.flow(X_train, y_train, batch_size = 15)\n",
        "X_batch, y_batch = next(batches)\n",
        "\n",
        "y_train = to_categorical(y_train, 43)\n",
        "y_test = to_categorical(y_test, 43)\n",
        "y_val = to_categorical(y_val, 43)"
      ],
      "execution_count": null,
      "outputs": []
    },
    {
      "cell_type": "code",
      "metadata": {
        "id": "k2DSaGyjbpax",
        "colab_type": "code",
        "colab": {}
      },
      "source": [
        "def modified_model():\n",
        "  model = Sequential()\n",
        "  model.add(Conv2D(60, (5, 5), input_shape=(32, 32, 1), activation='relu'))\n",
        "  model.add(Conv2D(60, (5, 5), activation='relu'))\n",
        "  model.add(MaxPooling2D(pool_size=(2, 2)))\n",
        "  \n",
        "  model.add(Conv2D(30, (3, 3), activation='relu'))\n",
        "  model.add(Conv2D(30, (3, 3), activation='relu'))\n",
        "  model.add(MaxPooling2D(pool_size=(2, 2)))\n",
        "  \n",
        "  model.add(Flatten())\n",
        "  model.add(Dense(500, activation='relu'))\n",
        "  model.add(Dropout(0.5))\n",
        "  model.add(Dense(43, activation='softmax'))\n",
        "  \n",
        "  model.compile(Adam(lr = 0.001), loss='categorical_crossentropy', metrics=['accuracy'])\n",
        "  return model\n",
        "model = modified_model()\n",
        "print(model.summary())"
      ],
      "execution_count": null,
      "outputs": []
    },
    {
      "cell_type": "code",
      "metadata": {
        "id": "Nvo5LNxDbt7Q",
        "colab_type": "code",
        "colab": {}
      },
      "source": [
        "history = model.fit_generator(datagen.flow(X_train, y_train, batch_size=50),\n",
        "                            steps_per_epoch=2000,\n",
        "                            epochs=10,\n",
        "                            validation_data=(X_val, y_val), shuffle = 1)"
      ],
      "execution_count": null,
      "outputs": []
    },
    {
      "cell_type": "code",
      "metadata": {
        "id": "nIpN7RLFbxF4",
        "colab_type": "code",
        "colab": {}
      },
      "source": [
        "plt.plot(history.history['loss'])\n",
        "plt.plot(history.history['val_loss'])\n",
        "plt.title('Loss')\n",
        "plt.xlabel('epoch')"
      ],
      "execution_count": null,
      "outputs": []
    },
    {
      "cell_type": "code",
      "metadata": {
        "id": "g8zx7E2JbxLI",
        "colab_type": "code",
        "colab": {}
      },
      "source": [
        "plt.plot(history.history['acc'])\n",
        "plt.plot(history.history['val_acc'])\n",
        "plt.legend(['training','test'])\n",
        "plt.title('Accuracy')\n",
        "plt.xlabel('epoch')"
      ],
      "execution_count": null,
      "outputs": []
    },
    {
      "cell_type": "code",
      "metadata": {
        "id": "Zg4oCekWbxOE",
        "colab_type": "code",
        "colab": {}
      },
      "source": [
        "score = model.evaluate(X_test, y_test, verbose=0)\n",
        "print('Test score:', score[0])\n",
        "print('Test accuracy:', score[1])"
      ],
      "execution_count": null,
      "outputs": []
    }
  ]
}