{
  "nbformat": 4,
  "nbformat_minor": 0,
  "metadata": {
    "colab": {
      "name": "Untitled3.ipynb",
      "provenance": []
    },
    "kernelspec": {
      "name": "python3",
      "display_name": "Python 3"
    }
  },
  "cells": [
    {
      "cell_type": "code",
      "metadata": {
        "id": "OK0JOSH4tD_3",
        "colab_type": "code",
        "colab": {}
      },
      "source": [
        "import numpy as np\n",
        "import matplotlib.pyplot as plt\n",
        "import keras\n",
        "from keras.datasets import mnist\n",
        "from keras.models import Sequential\n",
        "from keras.layers import Dense\n",
        "from keras.optimizers import Adam\n",
        "from keras.utils.np_utils import to_categorical\n",
        "\n",
        "import random\n",
        "np.random.seed(0)"
      ],
      "execution_count": 16,
      "outputs": []
    },
    {
      "cell_type": "code",
      "metadata": {
        "id": "FbItKMkUtKzt",
        "colab_type": "code",
        "colab": {}
      },
      "source": [
        "(X_train, y_train), (X_test, y_test) = mnist.load_data()\n",
        "num_of_samples = []"
      ],
      "execution_count": 17,
      "outputs": []
    },
    {
      "cell_type": "code",
      "metadata": {
        "id": "3rGNe1sStOw9",
        "colab_type": "code",
        "colab": {
          "base_uri": "https://localhost:8080/",
          "height": 718
        },
        "outputId": "0bc34917-7b63-4be1-9954-d2825441f930"
      },
      "source": [
        "cols = 5\n",
        "num_classes = 10\n",
        "\n",
        "\n",
        "y_train = to_categorical(y_train, 10)\n",
        "y_test = to_categorical(y_test, 10)\n",
        "\n",
        "X_train = X_train/255 \n",
        "X_test = X_test/255\n",
        "\n",
        "num_pixels = 28 * 28\n",
        "\n",
        "X_train = X_train.reshape(X_train.shape[0], num_pixels)\n",
        "X_test = X_test.reshape(X_test.shape[0], num_pixels)\n",
        "\n",
        "def create_model():\n",
        "    model = Sequential()\n",
        "    model.add(Dense(10, input_dim=num_pixels, activation='relu'))\n",
        "    model.add(Dense(30, activation='relu'))\n",
        "    model.add(Dense(10, activation='relu'))\n",
        "    model.add(Dense(num_classes, activation='softmax'))\n",
        "    model.compile(Adam(lr=0.01), loss='categorical_crossentropy', metrics=['accuracy'])\n",
        "    return model\n",
        "\n",
        "model = create_model()\n",
        "history = model.fit(X_train, y_train, validation_split=0.1, epochs = 10, batch_size = 200, verbose = 1, shuffle = 1)\n",
        "\n",
        "plt.plot(history.history['loss'])\n",
        "plt.plot(history.history['val_loss'])\n",
        "plt.legend(['loss', 'val_loss'])\n",
        "plt.title('Loss')\n",
        "plt.xlabel('epoch')\n",
        "\n",
        "plt.plot(history.history['accuracy'])\n",
        "plt.plot(history.history['val_accuracy'])\n",
        "plt.legend(['acc', 'val_acc'])\n",
        "plt.title('Accuracy')\n",
        "plt.xlabel('epoch')\n",
        "\n",
        "score = model.evaluate(X_test, y_test, verbose=0)\n",
        "print(type(score))\n",
        "print('Test score:', score[0])\n",
        "print('Test accuracy:', score[1])\n"
      ],
      "execution_count": 18,
      "outputs": [
        {
          "output_type": "stream",
          "text": [
            "Train on 54000 samples, validate on 6000 samples\n",
            "Epoch 1/10\n",
            "54000/54000 [==============================] - 1s 19us/step - loss: 0.5370 - accuracy: 0.8293 - val_loss: 0.2796 - val_accuracy: 0.9210\n",
            "Epoch 2/10\n",
            "54000/54000 [==============================] - 1s 19us/step - loss: 0.2940 - accuracy: 0.9127 - val_loss: 0.2109 - val_accuracy: 0.9383\n",
            "Epoch 3/10\n",
            "54000/54000 [==============================] - 1s 18us/step - loss: 0.2560 - accuracy: 0.9231 - val_loss: 0.2115 - val_accuracy: 0.9355\n",
            "Epoch 4/10\n",
            "54000/54000 [==============================] - 1s 19us/step - loss: 0.2360 - accuracy: 0.9299 - val_loss: 0.1951 - val_accuracy: 0.9427\n",
            "Epoch 5/10\n",
            "54000/54000 [==============================] - 1s 18us/step - loss: 0.2258 - accuracy: 0.9333 - val_loss: 0.1792 - val_accuracy: 0.9488\n",
            "Epoch 6/10\n",
            "54000/54000 [==============================] - 1s 18us/step - loss: 0.2070 - accuracy: 0.9377 - val_loss: 0.1770 - val_accuracy: 0.9478\n",
            "Epoch 7/10\n",
            "54000/54000 [==============================] - 1s 17us/step - loss: 0.2043 - accuracy: 0.9386 - val_loss: 0.2063 - val_accuracy: 0.9412\n",
            "Epoch 8/10\n",
            "54000/54000 [==============================] - 1s 18us/step - loss: 0.1994 - accuracy: 0.9402 - val_loss: 0.1829 - val_accuracy: 0.9480\n",
            "Epoch 9/10\n",
            "54000/54000 [==============================] - 1s 18us/step - loss: 0.1995 - accuracy: 0.9395 - val_loss: 0.1982 - val_accuracy: 0.9422\n",
            "Epoch 10/10\n",
            "54000/54000 [==============================] - 1s 18us/step - loss: 0.1891 - accuracy: 0.9435 - val_loss: 0.1735 - val_accuracy: 0.9475\n",
            "<class 'list'>\n",
            "Test score: 0.21102299819067122\n",
            "Test accuracy: 0.9379000067710876\n"
          ],
          "name": "stdout"
        },
        {
          "output_type": "display_data",
          "data": {
            "image/png": "[encoded data removed]",
            "text/plain": [
              "<Figure size 432x288 with 1 Axes>"
            ]
          },
          "metadata": {
            "tags": [],
            "needs_background": "light"
          }
        }
      ]
    }
  ]
}